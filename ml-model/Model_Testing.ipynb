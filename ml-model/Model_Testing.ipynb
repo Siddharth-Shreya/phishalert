{
 "cells": [
  {
   "cell_type": "code",
   "execution_count": null,
   "id": "436c4adc-5bdd-4679-ab27-df57194db7d3",
   "metadata": {},
   "outputs": [],
   "source": [
    "import pandas as pd\n",
    "from flask import Flask, render_template, request\n",
    "import pickle\n",
    "import string\n",
    "import numpy as np\n",
    "import nltk\n",
    "from nltk.corpus import stopwords\n",
    "from nltk.stem.porter import PorterStemmer"
   ]
  },
  {
   "cell_type": "code",
   "execution_count": null,
   "id": "ec554d2c-9555-4f4c-be49-693c4543fed1",
   "metadata": {},
   "outputs": [],
   "source": [
    "df = pd.read_csv('../Datasets/CEAS_08.csv')\n",
    "\n",
    "for index, row in df.iterrows():"
   ]
  }
 ],
 "metadata": {
  "kernelspec": {
   "display_name": "Python 3 (ipykernel)",
   "language": "python",
   "name": "python3"
  },
  "language_info": {
   "codemirror_mode": {
    "name": "ipython",
    "version": 3
   },
   "file_extension": ".py",
   "mimetype": "text/x-python",
   "name": "python",
   "nbconvert_exporter": "python",
   "pygments_lexer": "ipython3",
   "version": "3.11.9"
  }
 },
 "nbformat": 4,
 "nbformat_minor": 5
}
