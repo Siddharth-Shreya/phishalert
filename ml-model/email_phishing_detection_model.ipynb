{
 "cells": [
  {
   "cell_type": "markdown",
   "id": "50e863fe-72d8-4115-a44a-a50c55c0c81d",
   "metadata": {
    "id": "50e863fe-72d8-4115-a44a-a50c55c0c81d"
   },
   "source": [
    "### Imports"
   ]
  },
  {
   "cell_type": "code",
   "execution_count": 1,
   "id": "4bcf1b82-d3b9-4faa-a476-5718842519b0",
   "metadata": {
    "id": "4bcf1b82-d3b9-4faa-a476-5718842519b0"
   },
   "outputs": [],
   "source": [
    "import string\n",
    "import numpy as np\n",
    "import pandas as pd\n",
    "import pickle\n",
    "import nltk\n",
    "from nltk.corpus import stopwords\n",
    "from nltk.stem.porter import PorterStemmer\n",
    "from sklearn.feature_extraction.text import CountVectorizer\n",
    "from sklearn.model_selection import train_test_split\n",
    "from sklearn.metrics import accuracy_score\n",
    "from sklearn.linear_model import LogisticRegression\n",
    "from sklearn.naive_bayes import GaussianNB\n",
    "from sklearn.svm import SVC\n",
    "from sklearn.ensemble import RandomForestClassifier\n",
    "from sklearn.neighbors import KNeighborsClassifier"
   ]
  },
  {
   "cell_type": "code",
   "execution_count": 2,
   "id": "ff787809-cef6-4bcb-8aac-533a14559253",
   "metadata": {
    "colab": {
     "base_uri": "https://localhost:8080/"
    },
    "id": "ff787809-cef6-4bcb-8aac-533a14559253",
    "outputId": "90601be4-31c2-4369-b9aa-2bfd8cca909b"
   },
   "outputs": [
    {
     "name": "stderr",
     "output_type": "stream",
     "text": [
      "[nltk_data] Downloading package stopwords to\n",
      "[nltk_data]     C:\\Users\\Shreya\\AppData\\Roaming\\nltk_data...\n",
      "[nltk_data]   Package stopwords is already up-to-date!\n"
     ]
    },
    {
     "data": {
      "text/plain": [
       "True"
      ]
     },
     "execution_count": 2,
     "metadata": {},
     "output_type": "execute_result"
    }
   ],
   "source": [
    "nltk.download('stopwords')"
   ]
  },
  {
   "cell_type": "markdown",
   "id": "f89b589f-fbc2-403e-b359-36173789e37d",
   "metadata": {
    "id": "f89b589f-fbc2-403e-b359-36173789e37d"
   },
   "source": [
    "### Load and Explore Data"
   ]
  },
  {
   "cell_type": "code",
   "execution_count": 3,
   "id": "c84c81b5-862b-4f37-83f8-793ec9b5d831",
   "metadata": {
    "colab": {
     "base_uri": "https://localhost:8080/",
     "height": 449
    },
    "id": "c84c81b5-862b-4f37-83f8-793ec9b5d831",
    "outputId": "0e449d88-efbe-4d7c-9dfa-a8fb3fa0d77a"
   },
   "outputs": [
    {
     "name": "stdout",
     "output_type": "stream",
     "text": [
      "<class 'pandas.core.frame.DataFrame'>\n",
      "RangeIndex: 82486 entries, 0 to 82485\n",
      "Data columns (total 2 columns):\n",
      " #   Column         Non-Null Count  Dtype \n",
      "---  ------         --------------  ----- \n",
      " 0   text_combined  82486 non-null  object\n",
      " 1   label          82486 non-null  int64 \n",
      "dtypes: int64(1), object(1)\n",
      "memory usage: 1.3+ MB\n",
      "None\n",
      "label\n",
      "1    42891\n",
      "0    39595\n",
      "Name: count, dtype: int64\n"
     ]
    },
    {
     "data": {
      "text/html": [
       "<div>\n",
       "<style scoped>\n",
       "    .dataframe tbody tr th:only-of-type {\n",
       "        vertical-align: middle;\n",
       "    }\n",
       "\n",
       "    .dataframe tbody tr th {\n",
       "        vertical-align: top;\n",
       "    }\n",
       "\n",
       "    .dataframe thead th {\n",
       "        text-align: right;\n",
       "    }\n",
       "</style>\n",
       "<table border=\"1\" class=\"dataframe\">\n",
       "  <thead>\n",
       "    <tr style=\"text-align: right;\">\n",
       "      <th></th>\n",
       "      <th>text_combined</th>\n",
       "      <th>label</th>\n",
       "    </tr>\n",
       "  </thead>\n",
       "  <tbody>\n",
       "    <tr>\n",
       "      <th>0</th>\n",
       "      <td>hpl nom may 25 2001 see attached file hplno 52...</td>\n",
       "      <td>0</td>\n",
       "    </tr>\n",
       "    <tr>\n",
       "      <th>1</th>\n",
       "      <td>nom actual vols 24 th forwarded sabrae zajac h...</td>\n",
       "      <td>0</td>\n",
       "    </tr>\n",
       "    <tr>\n",
       "      <th>2</th>\n",
       "      <td>enron actuals march 30 april 1 201 estimated a...</td>\n",
       "      <td>0</td>\n",
       "    </tr>\n",
       "    <tr>\n",
       "      <th>3</th>\n",
       "      <td>hpl nom may 30 2001 see attached file hplno 53...</td>\n",
       "      <td>0</td>\n",
       "    </tr>\n",
       "    <tr>\n",
       "      <th>4</th>\n",
       "      <td>hpl nom june 1 2001 see attached file hplno 60...</td>\n",
       "      <td>0</td>\n",
       "    </tr>\n",
       "  </tbody>\n",
       "</table>\n",
       "</div>"
      ],
      "text/plain": [
       "                                       text_combined  label\n",
       "0  hpl nom may 25 2001 see attached file hplno 52...      0\n",
       "1  nom actual vols 24 th forwarded sabrae zajac h...      0\n",
       "2  enron actuals march 30 april 1 201 estimated a...      0\n",
       "3  hpl nom may 30 2001 see attached file hplno 53...      0\n",
       "4  hpl nom june 1 2001 see attached file hplno 60...      0"
      ]
     },
     "execution_count": 3,
     "metadata": {},
     "output_type": "execute_result"
    }
   ],
   "source": [
    "df = pd.read_csv(\"phishing_email.csv\")\n",
    "print(df.info())\n",
    "count = df['label'].value_counts()\n",
    "print(count)\n",
    "# this dataset includes: 39595 non-phishing emails, and 42891 phishing emails, based on the text content of the email\n",
    "df.head()"
   ]
  },
  {
   "cell_type": "code",
   "execution_count": 4,
   "id": "T2fCUL3JRL4L",
   "metadata": {
    "colab": {
     "base_uri": "https://localhost:8080/",
     "height": 449
    },
    "id": "T2fCUL3JRL4L",
    "outputId": "0ce8cb75-a7e2-4164-fa5f-9bdfac21d01d"
   },
   "outputs": [
    {
     "name": "stdout",
     "output_type": "stream",
     "text": [
      "<class 'pandas.core.frame.DataFrame'>\n",
      "RangeIndex: 4124 entries, 0 to 4123\n",
      "Data columns (total 2 columns):\n",
      " #   Column         Non-Null Count  Dtype \n",
      "---  ------         --------------  ----- \n",
      " 0   text_combined  4124 non-null   object\n",
      " 1   label          4124 non-null   int64 \n",
      "dtypes: int64(1), object(1)\n",
      "memory usage: 64.6+ KB\n",
      "None\n",
      "label\n",
      "1    2158\n",
      "0    1966\n",
      "Name: count, dtype: int64\n"
     ]
    },
    {
     "data": {
      "text/html": [
       "<div>\n",
       "<style scoped>\n",
       "    .dataframe tbody tr th:only-of-type {\n",
       "        vertical-align: middle;\n",
       "    }\n",
       "\n",
       "    .dataframe tbody tr th {\n",
       "        vertical-align: top;\n",
       "    }\n",
       "\n",
       "    .dataframe thead th {\n",
       "        text-align: right;\n",
       "    }\n",
       "</style>\n",
       "<table border=\"1\" class=\"dataframe\">\n",
       "  <thead>\n",
       "    <tr style=\"text-align: right;\">\n",
       "      <th></th>\n",
       "      <th>text_combined</th>\n",
       "      <th>label</th>\n",
       "    </tr>\n",
       "  </thead>\n",
       "  <tbody>\n",
       "    <tr>\n",
       "      <th>0</th>\n",
       "      <td>godaddycom wjysgzgodaddycom dear tony meyer we...</td>\n",
       "      <td>0</td>\n",
       "    </tr>\n",
       "    <tr>\n",
       "      <th>1</th>\n",
       "      <td>fw duke transaction original message collonges...</td>\n",
       "      <td>0</td>\n",
       "    </tr>\n",
       "    <tr>\n",
       "      <th>2</th>\n",
       "      <td>fercinfo 2 whole picture sally fyi jeff hodge ...</td>\n",
       "      <td>0</td>\n",
       "    </tr>\n",
       "    <tr>\n",
       "      <th>3</th>\n",
       "      <td>usaa usasecuritywhosaycom ensure delivery inbo...</td>\n",
       "      <td>1</td>\n",
       "    </tr>\n",
       "    <tr>\n",
       "      <th>4</th>\n",
       "      <td>dave funk dinsytengineeringuiowaedu wed 27 feb...</td>\n",
       "      <td>0</td>\n",
       "    </tr>\n",
       "  </tbody>\n",
       "</table>\n",
       "</div>"
      ],
      "text/plain": [
       "                                       text_combined  label\n",
       "0  godaddycom wjysgzgodaddycom dear tony meyer we...      0\n",
       "1  fw duke transaction original message collonges...      0\n",
       "2  fercinfo 2 whole picture sally fyi jeff hodge ...      0\n",
       "3  usaa usasecuritywhosaycom ensure delivery inbo...      1\n",
       "4  dave funk dinsytengineeringuiowaedu wed 27 feb...      0"
      ]
     },
     "execution_count": 4,
     "metadata": {},
     "output_type": "execute_result"
    }
   ],
   "source": [
    "import pandas as pd\n",
    "\n",
    "# Load the CSV file\n",
    "df = pd.read_csv('phishing_email.csv')\n",
    "\n",
    "# Randomly sample 50% of the rows\n",
    "df_sampled = df.sample(frac=0.05, random_state=1)  # Adjust frac for the desired fraction\n",
    "df_sampled.to_csv('phishing_email_2.csv', index=False)\n",
    "\n",
    "del df_sampled\n",
    "del df\n",
    "\n",
    "# Save the sampled data to a new CSV file\n",
    "df = pd.read_csv(\"phishing_email_2.csv\")\n",
    "print(df.info())\n",
    "count = df['label'].value_counts()\n",
    "print(count)\n",
    "# this dataset includes: 39595 non-phishing emails, and 42891 phishing emails, based on the text content of the email\n",
    "df.head()"
   ]
  },
  {
   "cell_type": "markdown",
   "id": "7c2426b0-e780-4c3f-a1d1-77025d62f576",
   "metadata": {
    "id": "7c2426b0-e780-4c3f-a1d1-77025d62f576"
   },
   "source": [
    "### Text and Preprocessing"
   ]
  },
  {
   "cell_type": "code",
   "execution_count": 5,
   "id": "50e96f78-af6f-41ff-a126-5faa9bbdcd2d",
   "metadata": {
    "id": "50e96f78-af6f-41ff-a126-5faa9bbdcd2d"
   },
   "outputs": [],
   "source": [
    "stemmer = PorterStemmer()\n",
    "corpus = []\n",
    "\n",
    "stopwords_set = set(stopwords.words('english'))\n",
    "\n",
    "for i in range(len(df)):\n",
    "    text = df[\"text_combined\"].iloc[i].lower()\n",
    "    text = text.translate(str.maketrans(\"\", \"\", string.punctuation)).split()\n",
    "    # stemming\n",
    "    text = [stemmer.stem(word) for word in text if word not in stopwords_set]\n",
    "    text = \" \".join(text)\n",
    "    corpus.append(text)"
   ]
  },
  {
   "cell_type": "code",
   "execution_count": 6,
   "id": "90938b61-9e95-4f8c-955d-04441c4874f1",
   "metadata": {
    "colab": {
     "base_uri": "https://localhost:8080/",
     "height": 244
    },
    "id": "90938b61-9e95-4f8c-955d-04441c4874f1",
    "outputId": "20796ec3-9736-4bb9-a4f9-9d8e14c5ceb1",
    "scrolled": true
   },
   "outputs": [
    {
     "data": {
      "text/plain": [
       "'godaddycom wjysgzgodaddycom dear toni meyer weekend treat someth special place internet youll find everyth need godaddycom host email shop cart secur certif weve got dont forget domain name come need build web site start blog creat onlin photo album much place order midnight pacif time sunday march 9 2008 save 10 40 minimum order get discount simpli enter sourc code gdp0309c shop cart mention code call thank alway go daddi custom sincer bob parson ceo founder godaddycom place sourc code gdp0309c cart order save share offer famili friend applic discount domain product discount membership mainten plan addit disk space bandwidth renew poster gift card discount reflect shop cart use conjunct offer promot quick blogcast free web site email account valu 9617yr purchas separ free host photo album quick blogcast servic adsupport comparison price accur 372008 subject chang without notic sure listen go daddi live formerli life onlin bob parsonst everi wednesday 1 pm pt4 pm et live via internet stream download anytim free go daddi alway look internet safeti learn verifi legitim email detect email fraud visit godaddycom click secur center go daddi unsubscrib instruct wish receiv special notic pleas unsubscrib httpswwwgodaddycomunsubscrib mail us written request attent godaddycom custom contact manag 14455 n hayden rd ste 219 scottsdal az 85260 pleas allow two week complet unsubscrib process take place note multipl account us must opt mail fulli discontinu copyright 2008 godaddycom inc right reserv wed 06 aug 2008 005559 0700 weekend save 10 40'"
      ]
     },
     "execution_count": 6,
     "metadata": {},
     "output_type": "execute_result"
    }
   ],
   "source": [
    "corpus[0]"
   ]
  },
  {
   "cell_type": "markdown",
   "id": "d00c9997-1416-4d02-b897-fa242260e4ea",
   "metadata": {
    "id": "d00c9997-1416-4d02-b897-fa242260e4ea"
   },
   "source": [
    "### Feature Extraction"
   ]
  },
  {
   "cell_type": "code",
   "execution_count": 7,
   "id": "5786fe79-aeb7-43ed-8671-5e80a56769c8",
   "metadata": {
    "id": "5786fe79-aeb7-43ed-8671-5e80a56769c8"
   },
   "outputs": [],
   "source": [
    "# Vectorize\n",
    "vectorizer = CountVectorizer()\n",
    "X = vectorizer.fit_transform(corpus).toarray()\n",
    "y = df.label\n",
    "\n",
    "with open('count_vectorizer.pkl', 'wb') as f:\n",
    "    pickle.dump(vectorizer, f)"
   ]
  },
  {
   "cell_type": "code",
   "execution_count": 8,
   "id": "ZgC5S_2PRdB1",
   "metadata": {
    "colab": {
     "base_uri": "https://localhost:8080/"
    },
    "id": "ZgC5S_2PRdB1",
    "outputId": "00a9b624-c31d-4cf1-ebff-796739cf0070"
   },
   "outputs": [
    {
     "data": {
      "text/plain": [
       "0"
      ]
     },
     "execution_count": 8,
     "metadata": {},
     "output_type": "execute_result"
    }
   ],
   "source": [
    "del df\n",
    "import gc\n",
    "gc.collect()"
   ]
  },
  {
   "cell_type": "markdown",
   "id": "0d7bdb8c-f868-406f-96ba-1d74ef3c65c3",
   "metadata": {
    "id": "0d7bdb8c-f868-406f-96ba-1d74ef3c65c3"
   },
   "source": [
    "### Model Selection"
   ]
  },
  {
   "cell_type": "code",
   "execution_count": 9,
   "id": "7876822f-1ef5-4de4-9945-3448a166dc36",
   "metadata": {
    "id": "7876822f-1ef5-4de4-9945-3448a166dc36"
   },
   "outputs": [],
   "source": [
    "X_train, X_test, y_train, y_test = train_test_split(X, y, test_size=0.3)"
   ]
  },
  {
   "cell_type": "markdown",
   "id": "3a104121-a791-4e1c-bdae-6f18e6852d7b",
   "metadata": {
    "id": "3a104121-a791-4e1c-bdae-6f18e6852d7b"
   },
   "source": [
    "### Model Training and Evaluation"
   ]
  },
  {
   "cell_type": "code",
   "execution_count": 10,
   "id": "35ca8ca4-8b7d-4e31-9cba-d4cefaaad43a",
   "metadata": {
    "id": "35ca8ca4-8b7d-4e31-9cba-d4cefaaad43a"
   },
   "outputs": [
    {
     "name": "stdout",
     "output_type": "stream",
     "text": [
      "Logistic Regression Accuracy: 0.9588\n",
      "Naive Bayes Accuracy: 0.9208\n",
      "Support Vector Machine Accuracy: 0.8223\n",
      "Random Forest Accuracy: 0.9483\n",
      "K-Nearest Neighbors Accuracy: 0.7342\n",
      "\n",
      "Best model: Logistic Regression with Accuracy: 0.9588\n"
     ]
    }
   ],
   "source": [
    "models = {\n",
    "    \"Logistic Regression\": LogisticRegression(max_iter=1000),\n",
    "    \"Naive Bayes\": GaussianNB(),\n",
    "    \"Support Vector Machine\": SVC(),\n",
    "    \"Random Forest\": RandomForestClassifier(),\n",
    "    \"K-Nearest Neighbors\": KNeighborsClassifier()\n",
    "}\n",
    "\n",
    "best_accuracy = 0\n",
    "best_model = None\n",
    "best_model_name = \"\"\n",
    "for model_name, model in models.items():\n",
    "    model.fit(X_train, y_train)\n",
    "    y_pred = model.predict(X_test)\n",
    "    accuracy = accuracy_score(y_test, y_pred)\n",
    "    print(f\"{model_name} Accuracy: {accuracy:.4f}\")\n",
    "    if accuracy > best_accuracy:\n",
    "        best_model_name = model_name\n",
    "        best_model = model\n",
    "        best_accuracy = accuracy\n",
    "\n",
    "\n",
    "print(f\"\\nBest model: {best_model_name} with Accuracy: {best_accuracy:.4f}\")"
   ]
  },
  {
   "cell_type": "markdown",
   "id": "41aada30-dbad-4735-8e5d-b1ce596ef279",
   "metadata": {
    "id": "41aada30-dbad-4735-8e5d-b1ce596ef279"
   },
   "source": [
    "### Deployment"
   ]
  },
  {
   "cell_type": "code",
   "execution_count": 11,
   "id": "d0d82945-f33f-4c9f-ba10-11cd7dc51bd9",
   "metadata": {
    "id": "d0d82945-f33f-4c9f-ba10-11cd7dc51bd9"
   },
   "outputs": [],
   "source": [
    "with open('email_phishing_detection.pkl', 'wb') as f:\n",
    "    pickle.dump(best_model, f)"
   ]
  }
 ],
 "metadata": {
  "colab": {
   "provenance": []
  },
  "kernelspec": {
   "display_name": "Python 3 (ipykernel)",
   "language": "python",
   "name": "python3"
  },
  "language_info": {
   "codemirror_mode": {
    "name": "ipython",
    "version": 3
   },
   "file_extension": ".py",
   "mimetype": "text/x-python",
   "name": "python",
   "nbconvert_exporter": "python",
   "pygments_lexer": "ipython3",
   "version": "3.11.9"
  }
 },
 "nbformat": 4,
 "nbformat_minor": 5
}
